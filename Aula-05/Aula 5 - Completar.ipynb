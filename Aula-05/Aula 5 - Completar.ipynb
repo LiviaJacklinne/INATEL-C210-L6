{
 "cells": [
  {
   "cell_type": "markdown",
   "metadata": {},
   "source": [
    "# Busca Cega\n",
    "\n",
    "Abordagem de busca que não considera nenhuma informação sobre qual sucessor é mais promissor para atingir uma meta (objetivo)\n",
    "###### Passos\n",
    "- Formular objetivo\n",
    "- Formular a busca\n",
    "- Executar"
   ]
  },
  {
   "cell_type": "markdown",
   "metadata": {},
   "source": [
    "### Modelando o problema\n",
    "- Sliding Puzzle\n",
    "<img src=\"images/sliding_puzzle.gif\" width=\"250\" align=\"center\">"
   ]
  },
  {
   "cell_type": "code",
   "execution_count": 29,
   "metadata": {},
   "outputs": [],
   "source": [
    "import numpy as np\n",
    "\n",
    "class SlidingPuzzle():\n",
    "    def __init__(self, num_blocos):\n",
    "        '''\n",
    "        Construtor\n",
    "        Args:\n",
    "            - num_blocos: numero de blocos por linha e coluna, valor inteiro (Ex: 3 significa 3 linhas e 3 colunas)\n",
    "        '''\n",
    "        self.num_blocos = num_blocos\n",
    "\n",
    "    def _encontra_posicao(self, estado, elemento):\n",
    "        '''\n",
    "        Varre todo o tabuleiro (estado) e verifica em qual posição 'elemento' está\n",
    "        Args:\n",
    "            - estado: matriz contendo o estado do tabuleiro\n",
    "            - elemento: elemento a ser buscado na matriz\n",
    "        Return:\n",
    "            - Retorna a linha e coluna onde o elemento se encontra\n",
    "        '''\n",
    "        for i in range (self.num_blocos):\n",
    "            for j in range (self.num_blocos):\n",
    "                if estado [i,j] == elemento:\n",
    "                    return i,j\n",
    "        return None, None\n",
    "\n",
    "        \n",
    "    def verifica_estados(self, atual, objetivo):\n",
    "        '''\n",
    "        Verifica se dois estados são iguais\n",
    "        Args:\n",
    "            - atual: matriz que descreve o estado atual\n",
    "            - objetivo: matriz que descreve o estado objetivo\n",
    "        Return:\n",
    "            - booleano dizendo se o estado atual é ou não o objetivo\n",
    "        '''\n",
    "        for i in range (self.num_blocos):\n",
    "            for j in range (self.num_blocos):\n",
    "                if atual [i,j] != objetivo [i,j]:\n",
    "                    return False\n",
    "        return True\n",
    "\n",
    "    def expande_estados(self, atual):\n",
    "        '''\n",
    "        Dado o estado atual, realiza a expansão de estados\n",
    "        Args:\n",
    "            - atual: matriz que descreve o estado atual\n",
    "        Return:\n",
    "            - lista com os novos estados após a expansão\n",
    "        '''\n",
    "        novos_estados = []\n",
    "        linha, coluna = self._encontra_posicao(atual,0)\n",
    "        \n",
    "        # CIMA\n",
    "        if linha > 0:\n",
    "            novo_estado = np.copy(atual)\n",
    "            nova_linha = linha - 1\n",
    "            \n",
    "            bloco_alvo = novo_estado[nova_linha, coluna]\n",
    "            novo_estado[nova_linha, coluna] = 0\n",
    "            novo_estado[linha, coluna] = bloco_alvo\n",
    "            \n",
    "            novos_estados.append(novo_estado)\n",
    "            \n",
    "        # BAIXO\n",
    "        if linha < self.num_blocos - 1:\n",
    "            novo_estado = np.copy(atual)\n",
    "            nova_linha = linha + 1\n",
    "            \n",
    "            bloco_alvo = novo_estado[nova_linha, coluna]\n",
    "            novo_estado[nova_linha, coluna] = 0\n",
    "            novo_estado[linha, coluna] = bloco_alvo\n",
    "            \n",
    "            novos_estados.append(novo_estado)\n",
    "            \n",
    "        # ESQUERDA\n",
    "        if coluna > 0:\n",
    "            novo_estado = np.copy(atual)\n",
    "            nova_coluna = coluna - 1\n",
    "            \n",
    "            bloco_alvo = novo_estado[linha, nova_coluna]\n",
    "            novo_estado[linha, nova_coluna] = 0\n",
    "            novo_estado[linha, coluna] = bloco_alvo\n",
    "            \n",
    "            novos_estados.append(novo_estado)\n",
    "            \n",
    "        # DIREITA\n",
    "        if coluna < self.num_blocos -1:\n",
    "            novo_estado = np.copy(atual)\n",
    "            nova_linha = coluna + 1\n",
    "            \n",
    "            bloco_alvo = novo_estado[linha, nova_coluna]\n",
    "            novo_estado[linha, nova_coluna] = 0\n",
    "            novo_estado[linha, coluna] = bloco_alvo\n",
    "            \n",
    "            novos_estados.append(novo_estado)\n",
    "        \n",
    "        return novos_estados\n",
    "        \n",
    "    "
   ]
  },
  {
   "cell_type": "markdown",
   "metadata": {},
   "source": [
    "### Formulando Busca"
   ]
  },
  {
   "cell_type": "markdown",
   "metadata": {},
   "source": [
    "#### Busca em largura (BrFS– Breadth-first search)\n",
    "\n",
    "Realiza a busca em nível. Imagine uma árvore de estados, nela a busca é realizada sequencialmente em cada nó do mesmo nível\n",
    "\n",
    "<img src=\"images/bfs.gif\" width=\"250\" align=\"center\">"
   ]
  },
  {
   "cell_type": "code",
   "execution_count": 34,
   "metadata": {},
   "outputs": [],
   "source": [
    "from queue import Queue\n",
    "\n",
    "class BreadthFirstSearch():\n",
    "    def __init__(self, problema):\n",
    "        '''\n",
    "        Construtor\n",
    "        Args:\n",
    "            - problema: objeto do problema a ser solucionado\n",
    "        '''\n",
    "        self.problema = problema\n",
    "        \n",
    "    def _verifica_visitado(self, estado, estados_visitados):\n",
    "        '''\n",
    "        Verifica se 'estado' está na lista de estados visitados\n",
    "        Args:\n",
    "            - estado: estado qualquer do tabuleiro\n",
    "            - estados_visitados: lista com todos os estados já visitados\n",
    "        Return:\n",
    "            - booleano dizendo se o estado foi visitado ou não\n",
    "        '''\n",
    "        for i in estados_visitados:\n",
    "            if self.problema.verifica_estados(i,estado):\n",
    "                return True\n",
    "        return False\n",
    "\n",
    "    \n",
    "    def busca(self, inicio, fim):\n",
    "        '''\n",
    "        Realiza a busca BFS, armazenando os estados em uma FILA\n",
    "        Args:\n",
    "            - inicio: estado inicial do problema\n",
    "            - fim: estado objetivo\n",
    "        Return:\n",
    "            - booleano se a solução foi encontrada, lista dos estados visitados, quantidade de estados visitados\n",
    "        '''\n",
    "        fila = Queue()\n",
    "        fila.put(inicio)\n",
    "        \n",
    "        solucao_encontrada = False\n",
    "        estados_visitados = []\n",
    "        cont_estados = 0\n",
    "        \n",
    "        while not fila.empty():\n",
    "            atual = fila.get()\n",
    "            estados_visitados.append(atual)\n",
    "            \n",
    "            if self.problema.verifica_estados(atual, fim):\n",
    "                solucao_encontrada = True\n",
    "                break\n",
    "            else:\n",
    "                cont_estados += 1            \n",
    "                print(f\"visitando #{cont_estados}\")\n",
    "                novos_estados = self.problema.expande_estados(atual)\n",
    "                for i in novos_estados:\n",
    "                      if not self._verifica_visitado(i, estados_visitados):\n",
    "                          print(i)\n",
    "                          fila.put(i)\n",
    "                            \n",
    "        return solucao_encontrada, estados_visitados, cont_estados\n",
    "      "
   ]
  },
  {
   "cell_type": "markdown",
   "metadata": {},
   "source": [
    "#### Busca em profundidade (DFS – Depth-first search)\n",
    "\n",
    "Realiza a busca por ramo. Imagine uma árvore de estados, nela a busca é realizada sequencialmente em cada ramo, e só após completá-lo, busca no ramo vizinho.\n",
    "\n",
    "<img src=\"images/dfs.gif\" width=\"250\" align=\"center\">"
   ]
  },
  {
   "cell_type": "code",
   "execution_count": 35,
   "metadata": {},
   "outputs": [],
   "source": [
    "from queue import LifoQueue\n",
    "\n",
    "class DepthFirstSearch():\n",
    "    def __init__(self, problema):\n",
    "        '''\n",
    "        Construtor\n",
    "        Args:\n",
    "            - problema: objeto do problema a ser solucionado\n",
    "        '''\n",
    "        self.problema = problema\n",
    "        \n",
    "    def _verifica_visitado(self, estado, estados_visitados):\n",
    "        '''\n",
    "        Verifica se 'estado' está na lista de estados visitados\n",
    "        Args:\n",
    "            - estado: estado qualquer do tabuleiro\n",
    "            - estados_visitados: lista com todos os estados já visitados\n",
    "        Return:\n",
    "            - booleano dizendo se o estado foi visitado ou não\n",
    "        '''\n",
    "        for i in estados_visitados:\n",
    "            if self.problema.verifica_estados(i,estado):\n",
    "                return True\n",
    "        return False\n",
    "    \n",
    "    def busca(self, inicio, fim):\n",
    "        '''\n",
    "        Realiza a busca DFS, armazenando os estados em uma PILHA\n",
    "        Args:\n",
    "            - inicio: estado inicial do problema\n",
    "            - fim: estado objetivo\n",
    "        Return:\n",
    "            - booleano se a solução foi encontrada, lista dos estados visitados, quantidade de estados visitados\n",
    "        '''\n",
    "        pilha = LifoQueue()\n",
    "        pilha.put(inicio)\n",
    "        \n",
    "        solucao_encontrada = False\n",
    "        estados_visitados = []\n",
    "        cont_estados = 0\n",
    "        \n",
    "        while not pilha.empty():\n",
    "            atual = pilha.get()\n",
    "            estados_visitados.append(atual)\n",
    "            \n",
    "            if self.problema.verifica_estados(atual, fim):\n",
    "                solucao_encontrada = True\n",
    "                break\n",
    "            else:\n",
    "                cont_estados += 1            \n",
    "                print(f\"visitando #{cont_estados}\")\n",
    "                novos_estados = self.problema.expande_estados(atual)\n",
    "                for i in novos_estados:\n",
    "                      if not self._verifica_visitado(i, estados_visitados):\n",
    "                          print(i)\n",
    "                          pilha.put(i)\n",
    "                            \n",
    "        return solucao_encontrada, estados_visitados, cont_estados\n"
   ]
  },
  {
   "cell_type": "markdown",
   "metadata": {},
   "source": [
    "### Executando"
   ]
  },
  {
   "cell_type": "code",
   "execution_count": 36,
   "metadata": {},
   "outputs": [
    {
     "name": "stdout",
     "output_type": "stream",
     "text": [
      "Initial state: \n",
      "[[1 0 2]\n",
      " [8 4 3]\n",
      " [7 6 5]]\n",
      "***************\n",
      "Target state: \n",
      "[[1 2 3]\n",
      " [8 0 4]\n",
      " [7 6 5]]\n",
      "***************\n"
     ]
    }
   ],
   "source": [
    "# Criando objeto do problema\n",
    "problema = SlidingPuzzle(3)\n",
    "\n",
    "# Criando Matriz inicial e matriz alvo\n",
    "start = np.matrix([[1,0,2],[8,4,3],[7,6,5]])\n",
    "target = np.matrix([[1,2,3],[8,0,4],[7,6,5]])\n",
    "\n",
    "# Mostrando informações iniciais\n",
    "print(f\"Initial state: \\n{start}\")\n",
    "print(\"*\"*15)\n",
    "print(f\"Target state: \\n{target}\")\n",
    "print(\"*\"*15)"
   ]
  },
  {
   "cell_type": "code",
   "execution_count": 38,
   "metadata": {},
   "outputs": [
    {
     "name": "stdout",
     "output_type": "stream",
     "text": [
      "visitando #1\n",
      "[[1 4 2]\n",
      " [8 0 3]\n",
      " [7 6 5]]\n",
      "[[0 1 2]\n",
      " [8 4 3]\n",
      " [7 6 5]]\n",
      "[[0 1 2]\n",
      " [8 4 3]\n",
      " [7 6 5]]\n",
      "visitando #2\n",
      "[[1 4 2]\n",
      " [8 6 3]\n",
      " [7 0 5]]\n",
      "[[1 4 2]\n",
      " [0 8 3]\n",
      " [7 6 5]]\n",
      "[[1 4 2]\n",
      " [0 8 3]\n",
      " [7 6 5]]\n",
      "visitando #3\n"
     ]
    },
    {
     "ename": "UnboundLocalError",
     "evalue": "cannot access local variable 'nova_coluna' where it is not associated with a value",
     "output_type": "error",
     "traceback": [
      "\u001b[1;31m---------------------------------------------------------------------------\u001b[0m",
      "\u001b[1;31mUnboundLocalError\u001b[0m                         Traceback (most recent call last)",
      "Cell \u001b[1;32mIn[38], line 4\u001b[0m\n\u001b[0;32m      1\u001b[0m \u001b[39m# Execução do BFS\u001b[39;00m\n\u001b[0;32m      2\u001b[0m bfs \u001b[39m=\u001b[39m BreadthFirstSearch(problema)\n\u001b[1;32m----> 4\u001b[0m bfs_solucao, bfs_estados_visitados, bfs_num_visitados \u001b[39m=\u001b[39m bfs\u001b[39m.\u001b[39;49mbusca(start, target) \u001b[39m# chamando busca\u001b[39;00m\n\u001b[0;32m      6\u001b[0m \u001b[39mif\u001b[39;00m bfs_solucao:\n\u001b[0;32m      7\u001b[0m     \u001b[39mprint\u001b[39m(\u001b[39mf\u001b[39m\u001b[39m\"\u001b[39m\u001b[39mSolution found!!!\u001b[39m\u001b[39m\"\u001b[39m)\n",
      "Cell \u001b[1;32mIn[34], line 53\u001b[0m, in \u001b[0;36mBreadthFirstSearch.busca\u001b[1;34m(self, inicio, fim)\u001b[0m\n\u001b[0;32m     51\u001b[0m cont_estados \u001b[39m+\u001b[39m\u001b[39m=\u001b[39m \u001b[39m1\u001b[39m            \n\u001b[0;32m     52\u001b[0m \u001b[39mprint\u001b[39m(\u001b[39mf\u001b[39m\u001b[39m\"\u001b[39m\u001b[39mvisitando #\u001b[39m\u001b[39m{\u001b[39;00mcont_estados\u001b[39m}\u001b[39;00m\u001b[39m\"\u001b[39m)\n\u001b[1;32m---> 53\u001b[0m novos_estados \u001b[39m=\u001b[39m \u001b[39mself\u001b[39;49m\u001b[39m.\u001b[39;49mproblema\u001b[39m.\u001b[39;49mexpande_estados(atual)\n\u001b[0;32m     54\u001b[0m \u001b[39mfor\u001b[39;00m i \u001b[39min\u001b[39;00m novos_estados:\n\u001b[0;32m     55\u001b[0m       \u001b[39mif\u001b[39;00m \u001b[39mnot\u001b[39;00m \u001b[39mself\u001b[39m\u001b[39m.\u001b[39m_verifica_visitado(i, estados_visitados):\n",
      "Cell \u001b[1;32mIn[29], line 92\u001b[0m, in \u001b[0;36mSlidingPuzzle.expande_estados\u001b[1;34m(self, atual)\u001b[0m\n\u001b[0;32m     89\u001b[0m novo_estado \u001b[39m=\u001b[39m np\u001b[39m.\u001b[39mcopy(atual)\n\u001b[0;32m     90\u001b[0m nova_linha \u001b[39m=\u001b[39m coluna \u001b[39m+\u001b[39m \u001b[39m1\u001b[39m\n\u001b[1;32m---> 92\u001b[0m bloco_alvo \u001b[39m=\u001b[39m novo_estado[linha, nova_coluna]\n\u001b[0;32m     93\u001b[0m novo_estado[linha, nova_coluna] \u001b[39m=\u001b[39m \u001b[39m0\u001b[39m\n\u001b[0;32m     94\u001b[0m novo_estado[linha, coluna] \u001b[39m=\u001b[39m bloco_alvo\n",
      "\u001b[1;31mUnboundLocalError\u001b[0m: cannot access local variable 'nova_coluna' where it is not associated with a value"
     ]
    }
   ],
   "source": [
    "# Execução do BFS\n",
    "bfs = BreadthFirstSearch(problema)\n",
    "\n",
    "bfs_solucao, bfs_estados_visitados, bfs_num_visitados = bfs.busca(start, target) # chamando busca\n",
    "\n",
    "if bfs_solucao:\n",
    "    print(f\"Solution found!!!\")\n",
    "else:\n",
    "    print(\"Solution not found!!!\")"
   ]
  },
  {
   "cell_type": "code",
   "execution_count": 39,
   "metadata": {},
   "outputs": [
    {
     "name": "stdout",
     "output_type": "stream",
     "text": [
      "visitando #1\n",
      "[[1 4 2]\n",
      " [8 0 3]\n",
      " [7 6 5]]\n",
      "[[0 1 2]\n",
      " [8 4 3]\n",
      " [7 6 5]]\n",
      "[[0 1 2]\n",
      " [8 4 3]\n",
      " [7 6 5]]\n",
      "visitando #2\n"
     ]
    },
    {
     "ename": "UnboundLocalError",
     "evalue": "cannot access local variable 'nova_coluna' where it is not associated with a value",
     "output_type": "error",
     "traceback": [
      "\u001b[1;31m---------------------------------------------------------------------------\u001b[0m",
      "\u001b[1;31mUnboundLocalError\u001b[0m                         Traceback (most recent call last)",
      "Cell \u001b[1;32mIn[39], line 4\u001b[0m\n\u001b[0;32m      1\u001b[0m \u001b[39m# Execução do DFS\u001b[39;00m\n\u001b[0;32m      2\u001b[0m dfs \u001b[39m=\u001b[39m DepthFirstSearch(problema)\n\u001b[1;32m----> 4\u001b[0m dfs_solucao, dfs_estados_visitados, dfs_num_visitados \u001b[39m=\u001b[39m dfs\u001b[39m.\u001b[39;49mbusca(start, target) \u001b[39m# chamando busca\u001b[39;00m\n\u001b[0;32m      6\u001b[0m \u001b[39mif\u001b[39;00m dfs_solucao:\n\u001b[0;32m      7\u001b[0m     \u001b[39mprint\u001b[39m(\u001b[39mf\u001b[39m\u001b[39m\"\u001b[39m\u001b[39mSolution found!!!\u001b[39m\u001b[39m\"\u001b[39m)\n",
      "Cell \u001b[1;32mIn[35], line 52\u001b[0m, in \u001b[0;36mDepthFirstSearch.busca\u001b[1;34m(self, inicio, fim)\u001b[0m\n\u001b[0;32m     50\u001b[0m cont_estados \u001b[39m+\u001b[39m\u001b[39m=\u001b[39m \u001b[39m1\u001b[39m            \n\u001b[0;32m     51\u001b[0m \u001b[39mprint\u001b[39m(\u001b[39mf\u001b[39m\u001b[39m\"\u001b[39m\u001b[39mvisitando #\u001b[39m\u001b[39m{\u001b[39;00mcont_estados\u001b[39m}\u001b[39;00m\u001b[39m\"\u001b[39m)\n\u001b[1;32m---> 52\u001b[0m novos_estados \u001b[39m=\u001b[39m \u001b[39mself\u001b[39;49m\u001b[39m.\u001b[39;49mproblema\u001b[39m.\u001b[39;49mexpande_estados(atual)\n\u001b[0;32m     53\u001b[0m \u001b[39mfor\u001b[39;00m i \u001b[39min\u001b[39;00m novos_estados:\n\u001b[0;32m     54\u001b[0m       \u001b[39mif\u001b[39;00m \u001b[39mnot\u001b[39;00m \u001b[39mself\u001b[39m\u001b[39m.\u001b[39m_verifica_visitado(i, estados_visitados):\n",
      "Cell \u001b[1;32mIn[29], line 92\u001b[0m, in \u001b[0;36mSlidingPuzzle.expande_estados\u001b[1;34m(self, atual)\u001b[0m\n\u001b[0;32m     89\u001b[0m novo_estado \u001b[39m=\u001b[39m np\u001b[39m.\u001b[39mcopy(atual)\n\u001b[0;32m     90\u001b[0m nova_linha \u001b[39m=\u001b[39m coluna \u001b[39m+\u001b[39m \u001b[39m1\u001b[39m\n\u001b[1;32m---> 92\u001b[0m bloco_alvo \u001b[39m=\u001b[39m novo_estado[linha, nova_coluna]\n\u001b[0;32m     93\u001b[0m novo_estado[linha, nova_coluna] \u001b[39m=\u001b[39m \u001b[39m0\u001b[39m\n\u001b[0;32m     94\u001b[0m novo_estado[linha, coluna] \u001b[39m=\u001b[39m bloco_alvo\n",
      "\u001b[1;31mUnboundLocalError\u001b[0m: cannot access local variable 'nova_coluna' where it is not associated with a value"
     ]
    }
   ],
   "source": [
    "# Execução do DFS\n",
    "dfs = DepthFirstSearch(problema)\n",
    "\n",
    "dfs_solucao, dfs_estados_visitados, dfs_num_visitados = dfs.busca(start, target) # chamando busca\n",
    "\n",
    "if dfs_solucao:\n",
    "    print(f\"Solution found!!!\")\n",
    "else:\n",
    "    print(\"Solution not found!!!\")"
   ]
  },
  {
   "cell_type": "code",
   "execution_count": 40,
   "metadata": {},
   "outputs": [
    {
     "name": "stdout",
     "output_type": "stream",
     "text": [
      "==== BFS ====\n"
     ]
    },
    {
     "ename": "NameError",
     "evalue": "name 'bfs_solucao' is not defined",
     "output_type": "error",
     "traceback": [
      "\u001b[1;31m---------------------------------------------------------------------------\u001b[0m",
      "\u001b[1;31mNameError\u001b[0m                                 Traceback (most recent call last)",
      "Cell \u001b[1;32mIn[40], line 3\u001b[0m\n\u001b[0;32m      1\u001b[0m \u001b[39m# Apresentando resultados\u001b[39;00m\n\u001b[0;32m      2\u001b[0m \u001b[39mprint\u001b[39m(\u001b[39m\"\u001b[39m\u001b[39m==== BFS ====\u001b[39m\u001b[39m\"\u001b[39m)\n\u001b[1;32m----> 3\u001b[0m \u001b[39mprint\u001b[39m(\u001b[39mf\u001b[39m\u001b[39m\"\u001b[39m\u001b[39mSolução encontrada? \u001b[39m\u001b[39m{\u001b[39;00mbfs_solucao\u001b[39m}\u001b[39;00m\u001b[39m\"\u001b[39m)\n\u001b[0;32m      4\u001b[0m \u001b[39mprint\u001b[39m(\u001b[39mf\u001b[39m\u001b[39m\"\u001b[39m\u001b[39mNúmero de estados visitados: \u001b[39m\u001b[39m{\u001b[39;00mbfs_num_visitados\u001b[39m}\u001b[39;00m\u001b[39m\"\u001b[39m)\n\u001b[0;32m      6\u001b[0m \u001b[39mprint\u001b[39m(\u001b[39m\"\u001b[39m\u001b[39m==== DFS ====\u001b[39m\u001b[39m\"\u001b[39m)\n",
      "\u001b[1;31mNameError\u001b[0m: name 'bfs_solucao' is not defined"
     ]
    }
   ],
   "source": [
    "# Apresentando resultados\n",
    "print(\"==== BFS ====\")\n",
    "print(f\"Solução encontrada? {bfs_solucao}\")\n",
    "print(f\"Número de estados visitados: {bfs_num_visitados}\")\n",
    "\n",
    "print(\"==== DFS ====\")\n",
    "print(f\"Solução encontrada? {dfs_solucao}\")\n",
    "print(f\"Número de estados visitados: {dfs_num_visitados}\")"
   ]
  },
  {
   "cell_type": "code",
   "execution_count": null,
   "metadata": {},
   "outputs": [],
   "source": []
  }
 ],
 "metadata": {
  "kernelspec": {
   "display_name": "Python 3 (ipykernel)",
   "language": "python",
   "name": "python3"
  },
  "language_info": {
   "codemirror_mode": {
    "name": "ipython",
    "version": 3
   },
   "file_extension": ".py",
   "mimetype": "text/x-python",
   "name": "python",
   "nbconvert_exporter": "python",
   "pygments_lexer": "ipython3",
   "version": "3.11.2"
  }
 },
 "nbformat": 4,
 "nbformat_minor": 4
}
